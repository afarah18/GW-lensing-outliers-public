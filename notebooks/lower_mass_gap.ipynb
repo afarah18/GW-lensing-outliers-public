{
 "cells": [
  {
   "cell_type": "markdown",
   "metadata": {},
   "source": [
    "## False and true positive rates for outliers in certain regions\n",
    "Motvated by other papers"
   ]
  },
  {
   "cell_type": "code",
   "execution_count": 2,
   "metadata": {},
   "outputs": [],
   "source": [
    "import numpy as np\n",
    "import matplotlib.pyplot as plt\n",
    "import matplotlib\n",
    "\n",
    "from GWMockCat.vt_utils import interpolate_optimal_snr_grid, draw_thetas\n",
    "from GWMockCat.cosmo_utils import interp_cosmology\n",
    "\n",
    "\n",
    "from gw_lensing_outliers import sampling, dists\n",
    "from gw_lensing_outliers import transforms as trans\n",
    "from gw_lensing_outliers import analysis_functions as af\n",
    "from gw_lensing_outliers.dists import ZMAX\n",
    "\n",
    "matplotlib.rcParams[\"contour.negative_linestyle\"]=\"solid\"\n",
    "matplotlib.rcParams[\"text.usetex\"]=True\n",
    "matplotlib.rcParams['font.family']='serif'\n",
    "matplotlib.rcParams['font.size']=12\n",
    "plt.rcParams.update( {'axes.labelsize':12, 'axes.titlesize':12, 'legend.fontsize':10, 'text.usetex':True} )\n",
    "\n",
    "color_og_light, color_og_dark = \"#8da0cb\", \"#7570b3\"\n",
    "color_lensing_light, color_lensing_dark =  \"#66c2a5\", \"#1b9e77\"\n",
    "color_alt_light, color_alt_dark = \"#fc8d62\", \"#d95f02\"\n",
    "\n",
    "MU_MAX = 2500\n",
    "GWMOCKCAT_COSMO_DICT = interp_cosmology(zmax=30)\n",
    "O4_MEASUREMENT_UNCERTAINTY = dict(threshold_snr=8.,snr=1.,mc=8e-2,Theta=8e-2,eta=1e-2)\n",
    "O4_total_obs_time = np.array([34,42,36])/52 # convert weeks to years, each enrty is a chunk of O4\n",
    "O4_duty_cycle = np.array([1-.166,.368+.311+.208/2,.346+.391+.173/2]) \n",
    "O4_OBS_TIME = np.sum(O4_total_obs_time * O4_duty_cycle)\n",
    "\n",
    "np_rng = np.random.default_rng(62)"
   ]
  },
  {
   "cell_type": "code",
   "execution_count": 3,
   "metadata": {},
   "outputs": [],
   "source": [
    "# define population model\n",
    "## redshift: shouts and murmurs\n",
    "baseline = dict(alpha=2.7,beta=2.9,zp=1.9) # note this is peaked at lower redshifts than ours!\n",
    "\n",
    "## mass: flat in m1,m2 between 1 and 2.5\n",
    "min_mass = 1\n",
    "max_mass = 2.5\n",
    "\n",
    "# magnification\n",
    "mu_interp, ln_mu_space, z_space, t_const_space = af.make_Dai_interpolant('../data/Dai_logmag_pdf_t0const_neg0p36_100_grid.h5',make_new=False, return_grids=True)"
   ]
  },
  {
   "cell_type": "code",
   "execution_count": 5,
   "metadata": {},
   "outputs": [],
   "source": [
    "# make injections without lensing\n",
    "N_INJ = int(5e8)\n",
    "\n",
    "true_redshifts = sampling.inverse_transform_sample(dists.shouts_murmurs,[1e-3,ZMAX],rng=np_rng,N=N_INJ,**baseline) \n",
    "true_distances = trans.dL_approx(true_redshifts)\n",
    "thetas = draw_thetas(N_INJ,np_rng)\n",
    "pdraw = dists.shouts_murmurs(true_redshifts,**baseline)\n",
    "\n",
    "true_src_masses = np_rng.uniform(low=min_mass,high=max_mass,size=N_INJ)\n",
    "q = np.ones(N_INJ)\n",
    "det_masses = true_src_masses * (1 + true_redshifts)\n",
    "pdraw *= np.ones(N_INJ)/(max_mass - min_mass)\n",
    "\n",
    "injections_unlensed = dict(true_src_mass=true_src_masses,\n",
    "                      det_mass=det_masses,\n",
    "                      mass_ratio=q,\n",
    "                      true_redshift=true_redshifts,\n",
    "                      true_distance=true_distances,\n",
    "                      sky_angle=thetas,\n",
    "                      inferred_distance=true_distances,\n",
    "                      inferred_redshift=true_redshifts,\n",
    "                      inferred_src_mass=true_src_masses,\n",
    "                      mass_z_pdraw=pdraw,\n",
    "                      num_injections=N_INJ,\n",
    "                      magnification=np.ones_like(true_src_masses),\n",
    "                      lnmu_pdraw=np.ones_like(true_src_masses),\n",
    ")"
   ]
  },
  {
   "cell_type": "code",
   "execution_count": 6,
   "metadata": {},
   "outputs": [],
   "source": [
    "# make those same injections with lensing\n",
    "log_min_mag = ln_mu_space[0]\n",
    "log_max_mag = ln_mu_space[-1]\n",
    "logmags = np_rng.uniform(log_min_mag,log_max_mag,size=N_INJ)\n",
    "logmu_pdraw = np.ones(N_INJ)/(log_max_mag - log_min_mag)\n",
    "mags = np.exp(logmags)\n",
    "\n",
    "inferred_distances, inferred_redshifts, inferred_src_masses = trans.inferred_quantities_from_lensing(mags, det_masses, true_distances)\n",
    "\n",
    "injections_lensed = injections_unlensed.copy()\n",
    "injections_lensed['magnification'] = mags\n",
    "injections_lensed['inferred_distance'] = inferred_distances\n",
    "injections_lensed['inferred_redshift'] = inferred_redshifts\n",
    "injections_lensed['inferred_src_mass'] = inferred_src_masses\n",
    "injections_lensed['lnmu_pdraw'] = logmu_pdraw"
   ]
  },
  {
   "cell_type": "code",
   "execution_count": 7,
   "metadata": {},
   "outputs": [
    {
     "name": "stdout",
     "output_type": "stream",
     "text": [
      "5202 found injections\n",
      "1996 injections found and identified as outliers\n",
      "29611328 found injections\n",
      "27802056 injections found and identified as outliers\n"
     ]
    }
   ],
   "source": [
    "# find both sets of injections\n",
    "detector = \"aligo_O4low\"\n",
    "osnr, dist_unit = interpolate_optimal_snr_grid(\n",
    "            f\"/Users/amandafarah/Library/Mobile Documents/com~apple~CloudDocs/projects/mock-PE/sensitivity/optimal_snr_{detector}.h5\")\n",
    "\n",
    "obs_found_evs_unlensed, identified_evs_unlensed = af.find_injections(np_rng,injections_unlensed,m1max_thresh,0,osnr,dist_unit,O4_MEASUREMENT_UNCERTAINTY,cosmo_dict=GWMOCKCAT_COSMO_DICT)\n",
    "obs_found_evs_lensed, identified_evs_lensed = af.find_injections(np_rng,injections_lensed,m1max_thresh,0,osnr,dist_unit,O4_MEASUREMENT_UNCERTAINTY,cosmo_dict=GWMOCKCAT_COSMO_DICT)"
   ]
  },
  {
   "cell_type": "code",
   "execution_count": 8,
   "metadata": {},
   "outputs": [
    {
     "data": {
      "text/plain": [
       "(0.059222656, 0.055604112)"
      ]
     },
     "execution_count": 8,
     "metadata": {},
     "output_type": "execute_result"
    }
   ],
   "source": [
    "obs_found_evs_lensed['num_found'] / N_INJ , identified_evs_lensed['identified_bool'].sum() / N_INJ"
   ]
  },
  {
   "cell_type": "code",
   "execution_count": 9,
   "metadata": {},
   "outputs": [],
   "source": [
    "# calculate Nexp in the gap for both sets of injections\n",
    "z_dummy = np.linspace(0.001,ZMAX,num=100)\n",
    "total_rate = 15 * np.trapz(x=z_dummy,y=dists.shouts_murmurs(\n",
    "    z_dummy,**baseline)\n",
    ")\n",
    "\n",
    "Nexp_outlier_unlensed = identified_evs_unlensed['identified_bool'].sum() / N_INJ   * total_rate * O4_OBS_TIME \n",
    "\n",
    "t_const = 0.0\n",
    "found_weights = mu_interp((np.log(obs_found_evs_lensed['magnification']),obs_found_evs_lensed['true_redshift'],t_const)) / obs_found_evs_lensed['lnmu_pdraw']\n",
    "identified_weights = found_weights[identified_evs_lensed['identified_bool']]  \n",
    "Nexp_outlier_lensed = identified_weights.sum() / N_INJ   * total_rate * O4_OBS_TIME \n"
   ]
  },
  {
   "cell_type": "code",
   "execution_count": 10,
   "metadata": {},
   "outputs": [
    {
     "data": {
      "text/plain": [
       "(0.41975057589526904, 0.4106906938432659)"
      ]
     },
     "execution_count": 10,
     "metadata": {},
     "output_type": "execute_result"
    }
   ],
   "source": [
    "Nexp_outlier_unlensed,Nexp_outlier_lensed"
   ]
  },
  {
   "cell_type": "code",
   "execution_count": 11,
   "metadata": {},
   "outputs": [
    {
     "data": {
      "image/png": "[encoded data removed]",
      "text/plain": [
       "<Figure size 640x480 with 1 Axes>"
      ]
     },
     "metadata": {},
     "output_type": "display_data"
    }
   ],
   "source": [
    "hist_kwargs = dict(bins=50,density=True,histtype='step')\n",
    "\n",
    "plt.hist(obs_found_evs_unlensed['inferred_src_mass'],**hist_kwargs,label='found unlensed')\n",
    "plt.hist(obs_found_evs_lensed['inferred_src_mass'],weights=found_weights,**hist_kwargs,label='found lensed')\n",
    "plt.hist(injections_unlensed['true_src_mass'],**hist_kwargs,label='original')\n",
    "plt.legend()\n",
    "plt.yscale('log')\n",
    "plt.show()\n",
    "# I think what I want is basically the integral of the blue vs orange lines above 2.5 solar masses. \n",
    "# interesting thing is that above 3 msun the orange is the only one that exists - so those ppl might be onto something- but that might be an undersampling thing for the blue"
   ]
  },
  {
   "cell_type": "code",
   "execution_count": 13,
   "metadata": {},
   "outputs": [
    {
     "data": {
      "text/plain": [
       "3.647410574803839"
      ]
     },
     "execution_count": 13,
     "metadata": {},
     "output_type": "execute_result"
    }
   ],
   "source": [
    "masses = obs_found_evs_unlensed['inferred_src_mass']\n",
    "N_ppd = int(2e3)\n",
    "mmax = np.empty(N_ppd)\n",
    "for i in range(N_ppd):\n",
    "    ms = np.random.choice(masses,size=5,replace=True)\n",
    "    mmax[i] = ms.max()\n",
    "m1max_thresh = np.percentile(mmax,99)\n",
    "m1max_thresh"
   ]
  },
  {
   "cell_type": "code",
   "execution_count": null,
   "metadata": {},
   "outputs": [],
   "source": [
    "masses = obs_found_evs_unlensed['inferred_src_mass']\n",
    "N_ppd = int(2e3)\n",
    "mmax = np.empty(N_ppd)\n",
    "for i in range(N_ppd):\n",
    "    ms = np.random.choice(masses,size=5,replace=True)\n",
    "    mmax[i] = ms.max()\n",
    "m1max_thresh = np.percentile(mmax,99)\n",
    "m1max_thresh"
   ]
  },
  {
   "cell_type": "code",
   "execution_count": null,
   "metadata": {},
   "outputs": [
    {
     "data": {
      "image/png": "[encoded data removed]",
      "text/plain": [
       "<Figure size 640x480 with 1 Axes>"
      ]
     },
     "metadata": {},
     "output_type": "display_data"
    },
    {
     "data": {
      "image/png": "[encoded data removed]",
      "text/plain": [
       "<Figure size 640x480 with 1 Axes>"
      ]
     },
     "metadata": {},
     "output_type": "display_data"
    }
   ],
   "source": [
    "hist_kwargs = dict(bins=50,density=True,histtype='step')\n",
    "plt.hist(np.log(identified_evs_lensed['magnification']),**hist_kwargs,label='original injections')\n",
    "plt.hist(np.log(identified_evs_lensed['magnification']),weights=identified_weights,**hist_kwargs,label='reweighted to Dai')\n",
    "plt.legend()\n",
    "plt.xlabel(\"log(mu)\")\n",
    "plt.yscale('log')\n",
    "plt.title(\"found events\")\n",
    "plt.show()\n",
    "\n",
    "plt.hist(np.log(obs_found_evs_lensed['magnification']),**hist_kwargs,label='original injections')\n",
    "plt.hist(np.log(obs_found_evs_lensed['magnification']),weights=found_weights,**hist_kwargs,label='reweighted to Dai')\n",
    "plt.legend()\n",
    "plt.xlabel(\"log(mu)\")\n",
    "plt.yscale('log')\n",
    "plt.title(\"found LMG events\")\n",
    "plt.show()\n"
   ]
  },
  {
   "cell_type": "code",
   "execution_count": 30,
   "metadata": {},
   "outputs": [
    {
     "data": {
      "text/plain": [
       "0.9999998681727987"
      ]
     },
     "execution_count": 30,
     "metadata": {},
     "output_type": "execute_result"
    }
   ],
   "source": [
    "np.trapz(mu_interp((ln_mu_space,5,100)),ln_mu_space)"
   ]
  },
  {
   "cell_type": "code",
   "execution_count": 20,
   "metadata": {},
   "outputs": [
    {
     "data": {
      "text/plain": [
       "1.0"
      ]
     },
     "execution_count": 20,
     "metadata": {},
     "output_type": "execute_result"
    }
   ],
   "source": [
    "np.trapz(np.ones_like(ln_mu_space)/(log_max_mag - log_min_mag),ln_mu_space)"
   ]
  },
  {
   "cell_type": "code",
   "execution_count": null,
   "metadata": {},
   "outputs": [
    {
     "data": {
      "text/plain": [
       "-2.3025850929940455"
      ]
     },
     "execution_count": 25,
     "metadata": {},
     "output_type": "execute_result"
    }
   ],
   "source": [
    "np.log(min_mag)##== ln_mu_space[0]"
   ]
  },
  {
   "cell_type": "code",
   "execution_count": null,
   "metadata": {},
   "outputs": [],
   "source": []
  }
 ],
 "metadata": {
  "kernelspec": {
   "display_name": "lensing",
   "language": "python",
   "name": "python3"
  },
  "language_info": {
   "codemirror_mode": {
    "name": "ipython",
    "version": 3
   },
   "file_extension": ".py",
   "mimetype": "text/x-python",
   "name": "python",
   "nbconvert_exporter": "python",
   "pygments_lexer": "ipython3",
   "version": "3.10.5"
  },
  "orig_nbformat": 4
 },
 "nbformat": 4,
 "nbformat_minor": 2
}
